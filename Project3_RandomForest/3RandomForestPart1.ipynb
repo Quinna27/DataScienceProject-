{
 "cells": [
  {
   "cell_type": "markdown",
   "metadata": {},
   "source": [
    "### Portfolio3-Random Forest-Part1-Feature Importance\n",
    "#### Qiaoyu Wang"
   ]
  },
  {
   "cell_type": "markdown",
   "metadata": {},
   "source": [
    "This week we explored Ensemble Models, such as Random Forest, which luckily aligned with the questions I posed in Portfolio2 last week. I've been contemplating how to naturally handle feature importance and interactions between features, as well as how can we use simple decision trees to handle larger datasets more effectively. I guess Ensemble Models might give me some insights.\n",
    "\n",
    "So I divided the portfolio into 2 parts, and in this part, I continued using the same dataset (https://www.kaggle.com/datasets/nelgiriyewithana/apple-quality/data) to delve deeper into the first question, seeking a better understanding of feature importance."
   ]
  },
  {
   "cell_type": "markdown",
   "metadata": {},
   "source": [
    "#### 0 Import"
   ]
  },
  {
   "cell_type": "code",
   "execution_count": 1,
   "metadata": {},
   "outputs": [],
   "source": [
    "#Import libraries \n",
    "import pandas as pd\n",
    "import numpy as np\n",
    "from sklearn.ensemble import RandomForestClassifier\n",
    "pd.set_option(\"display.max_rows\",1000)\n",
    "pd.set_option(\"display.max_columns\",1000)\n",
    "from sklearn.preprocessing import LabelEncoder\n",
    "from sklearn.model_selection import train_test_split\n",
    "from sklearn.ensemble import AdaBoostClassifier\n",
    "from sklearn.metrics import accuracy_score"
   ]
  },
  {
   "cell_type": "markdown",
   "metadata": {},
   "source": [
    "#### 1 Load in the dataset"
   ]
  },
  {
   "cell_type": "code",
   "execution_count": 2,
   "metadata": {},
   "outputs": [
    {
     "data": {
      "text/html": [
       "<div>\n",
       "<style scoped>\n",
       "    .dataframe tbody tr th:only-of-type {\n",
       "        vertical-align: middle;\n",
       "    }\n",
       "\n",
       "    .dataframe tbody tr th {\n",
       "        vertical-align: top;\n",
       "    }\n",
       "\n",
       "    .dataframe thead th {\n",
       "        text-align: right;\n",
       "    }\n",
       "</style>\n",
       "<table border=\"1\" class=\"dataframe\">\n",
       "  <thead>\n",
       "    <tr style=\"text-align: right;\">\n",
       "      <th></th>\n",
       "      <th>A_id</th>\n",
       "      <th>Size</th>\n",
       "      <th>Weight</th>\n",
       "      <th>Sweetness</th>\n",
       "      <th>Crunchiness</th>\n",
       "      <th>Juiciness</th>\n",
       "      <th>Ripeness</th>\n",
       "      <th>Acidity</th>\n",
       "      <th>Quality</th>\n",
       "    </tr>\n",
       "  </thead>\n",
       "  <tbody>\n",
       "    <tr>\n",
       "      <th>0</th>\n",
       "      <td>0.0</td>\n",
       "      <td>-3.970049</td>\n",
       "      <td>-2.512336</td>\n",
       "      <td>5.346330</td>\n",
       "      <td>-1.012009</td>\n",
       "      <td>1.844900</td>\n",
       "      <td>0.329840</td>\n",
       "      <td>-0.491590483</td>\n",
       "      <td>good</td>\n",
       "    </tr>\n",
       "    <tr>\n",
       "      <th>1</th>\n",
       "      <td>1.0</td>\n",
       "      <td>-1.195217</td>\n",
       "      <td>-2.839257</td>\n",
       "      <td>3.664059</td>\n",
       "      <td>1.588232</td>\n",
       "      <td>0.853286</td>\n",
       "      <td>0.867530</td>\n",
       "      <td>-0.722809367</td>\n",
       "      <td>good</td>\n",
       "    </tr>\n",
       "    <tr>\n",
       "      <th>2</th>\n",
       "      <td>2.0</td>\n",
       "      <td>-0.292024</td>\n",
       "      <td>-1.351282</td>\n",
       "      <td>-1.738429</td>\n",
       "      <td>-0.342616</td>\n",
       "      <td>2.838636</td>\n",
       "      <td>-0.038033</td>\n",
       "      <td>2.621636473</td>\n",
       "      <td>bad</td>\n",
       "    </tr>\n",
       "    <tr>\n",
       "      <th>3</th>\n",
       "      <td>3.0</td>\n",
       "      <td>-0.657196</td>\n",
       "      <td>-2.271627</td>\n",
       "      <td>1.324874</td>\n",
       "      <td>-0.097875</td>\n",
       "      <td>3.637970</td>\n",
       "      <td>-3.413761</td>\n",
       "      <td>0.790723217</td>\n",
       "      <td>good</td>\n",
       "    </tr>\n",
       "    <tr>\n",
       "      <th>4</th>\n",
       "      <td>4.0</td>\n",
       "      <td>1.364217</td>\n",
       "      <td>-1.296612</td>\n",
       "      <td>-0.384658</td>\n",
       "      <td>-0.553006</td>\n",
       "      <td>3.030874</td>\n",
       "      <td>-1.303849</td>\n",
       "      <td>0.501984036</td>\n",
       "      <td>good</td>\n",
       "    </tr>\n",
       "    <tr>\n",
       "      <th>...</th>\n",
       "      <td>...</td>\n",
       "      <td>...</td>\n",
       "      <td>...</td>\n",
       "      <td>...</td>\n",
       "      <td>...</td>\n",
       "      <td>...</td>\n",
       "      <td>...</td>\n",
       "      <td>...</td>\n",
       "      <td>...</td>\n",
       "    </tr>\n",
       "    <tr>\n",
       "      <th>3995</th>\n",
       "      <td>3995.0</td>\n",
       "      <td>0.059386</td>\n",
       "      <td>-1.067408</td>\n",
       "      <td>-3.714549</td>\n",
       "      <td>0.473052</td>\n",
       "      <td>1.697986</td>\n",
       "      <td>2.244055</td>\n",
       "      <td>0.137784369</td>\n",
       "      <td>bad</td>\n",
       "    </tr>\n",
       "    <tr>\n",
       "      <th>3996</th>\n",
       "      <td>3996.0</td>\n",
       "      <td>-0.293118</td>\n",
       "      <td>1.949253</td>\n",
       "      <td>-0.204020</td>\n",
       "      <td>-0.640196</td>\n",
       "      <td>0.024523</td>\n",
       "      <td>-1.087900</td>\n",
       "      <td>1.854235285</td>\n",
       "      <td>good</td>\n",
       "    </tr>\n",
       "    <tr>\n",
       "      <th>3997</th>\n",
       "      <td>3997.0</td>\n",
       "      <td>-2.634515</td>\n",
       "      <td>-2.138247</td>\n",
       "      <td>-2.440461</td>\n",
       "      <td>0.657223</td>\n",
       "      <td>2.199709</td>\n",
       "      <td>4.763859</td>\n",
       "      <td>-1.334611391</td>\n",
       "      <td>bad</td>\n",
       "    </tr>\n",
       "    <tr>\n",
       "      <th>3998</th>\n",
       "      <td>3998.0</td>\n",
       "      <td>-4.008004</td>\n",
       "      <td>-1.779337</td>\n",
       "      <td>2.366397</td>\n",
       "      <td>-0.200329</td>\n",
       "      <td>2.161435</td>\n",
       "      <td>0.214488</td>\n",
       "      <td>-2.229719806</td>\n",
       "      <td>good</td>\n",
       "    </tr>\n",
       "    <tr>\n",
       "      <th>3999</th>\n",
       "      <td>3999.0</td>\n",
       "      <td>0.278540</td>\n",
       "      <td>-1.715505</td>\n",
       "      <td>0.121217</td>\n",
       "      <td>-1.154075</td>\n",
       "      <td>1.266677</td>\n",
       "      <td>-0.776571</td>\n",
       "      <td>1.599796456</td>\n",
       "      <td>good</td>\n",
       "    </tr>\n",
       "  </tbody>\n",
       "</table>\n",
       "<p>4000 rows × 9 columns</p>\n",
       "</div>"
      ],
      "text/plain": [
       "        A_id      Size    Weight  Sweetness  Crunchiness  Juiciness  Ripeness  \\\n",
       "0        0.0 -3.970049 -2.512336   5.346330    -1.012009   1.844900  0.329840   \n",
       "1        1.0 -1.195217 -2.839257   3.664059     1.588232   0.853286  0.867530   \n",
       "2        2.0 -0.292024 -1.351282  -1.738429    -0.342616   2.838636 -0.038033   \n",
       "3        3.0 -0.657196 -2.271627   1.324874    -0.097875   3.637970 -3.413761   \n",
       "4        4.0  1.364217 -1.296612  -0.384658    -0.553006   3.030874 -1.303849   \n",
       "...      ...       ...       ...        ...          ...        ...       ...   \n",
       "3995  3995.0  0.059386 -1.067408  -3.714549     0.473052   1.697986  2.244055   \n",
       "3996  3996.0 -0.293118  1.949253  -0.204020    -0.640196   0.024523 -1.087900   \n",
       "3997  3997.0 -2.634515 -2.138247  -2.440461     0.657223   2.199709  4.763859   \n",
       "3998  3998.0 -4.008004 -1.779337   2.366397    -0.200329   2.161435  0.214488   \n",
       "3999  3999.0  0.278540 -1.715505   0.121217    -1.154075   1.266677 -0.776571   \n",
       "\n",
       "           Acidity Quality  \n",
       "0     -0.491590483    good  \n",
       "1     -0.722809367    good  \n",
       "2      2.621636473     bad  \n",
       "3      0.790723217    good  \n",
       "4      0.501984036    good  \n",
       "...            ...     ...  \n",
       "3995   0.137784369     bad  \n",
       "3996   1.854235285    good  \n",
       "3997  -1.334611391     bad  \n",
       "3998  -2.229719806    good  \n",
       "3999   1.599796456    good  \n",
       "\n",
       "[4000 rows x 9 columns]"
      ]
     },
     "execution_count": 2,
     "metadata": {},
     "output_type": "execute_result"
    }
   ],
   "source": [
    "df = pd.read_csv(\"data/apple_quality.csv\")\n",
    "df = df.dropna()\n",
    "df"
   ]
  },
  {
   "cell_type": "code",
   "execution_count": 3,
   "metadata": {},
   "outputs": [
    {
     "name": "stdout",
     "output_type": "stream",
     "text": [
      "[1 1 0 ... 0 1 1]\n",
      "4000 4000\n",
      "[0 1]\n"
     ]
    }
   ],
   "source": [
    "encoded_y = LabelEncoder().fit_transform(df[\"Quality\"])\n",
    "print(encoded_y)\n",
    "print(len(encoded_y), len(df[\"Quality\"]))\n",
    "print(np.unique(encoded_y))"
   ]
  },
  {
   "cell_type": "markdown",
   "metadata": {},
   "source": [
    "#### 2 Train Random Forest Model"
   ]
  },
  {
   "cell_type": "code",
   "execution_count": 4,
   "metadata": {},
   "outputs": [],
   "source": [
    "def get_dataset(features):\n",
    "    #Filter just features\n",
    "    df_features = df[features].copy()\n",
    "    X = df_features.values.copy()\n",
    "    #Filter genres and add label column\n",
    "    df_features.loc[df['Quality'] == \"good\", \"label\"] = 0\n",
    "    df_features.loc[df['Quality'] == \"bad\", \"label\"] = 1\n",
    "    \n",
    "    X = df_features.drop(columns=['label']).values  # Features matrix\n",
    "    y = df_features['label'].values  # Target labels\n",
    "\n",
    "    return X, y\n",
    "\n",
    "def train(dataset, rf = True):\n",
    "    X, y = dataset\n",
    "    # Fit the model\n",
    "    if rf:\n",
    "        model = RandomForestClassifier(oob_score=True, random_state=42, n_estimators=500, n_jobs=-1)\n",
    "        model.fit(X, y)\n",
    "        print(\"OOB accuracy\", model.oob_score_)\n",
    "    else:\n",
    "        X_train, X_test, y_train, y_test = train_test_split(X, y, test_size=0.2, random_state=42)\n",
    "        model = AdaBoostClassifier(n_estimators=500, random_state=42)\n",
    "        model.fit(X_train, y_train)\n",
    "        y_pred = model.predict(X_test)\n",
    "        accuracy = accuracy_score(y_test, y_pred)\n",
    "        print(\"accuracy\",accuracy)"
   ]
  },
  {
   "cell_type": "code",
   "execution_count": 5,
   "metadata": {},
   "outputs": [
    {
     "name": "stdout",
     "output_type": "stream",
     "text": [
      "OOB accuracy 0.58625\n",
      "OOB accuracy 0.88925\n"
     ]
    }
   ],
   "source": [
    "features = [\"Size\", \"Weight\"]\n",
    "train(get_dataset(features))\n",
    "features = [\"Size\", \"Weight\" ,\"Sweetness\" ,\"Crunchiness\" ,\"Ripeness\", \"Juiciness\", \"Acidity\"]\n",
    "train(get_dataset(features))"
   ]
  },
  {
   "cell_type": "markdown",
   "metadata": {},
   "source": [
    "#### 3 Explore Feature Importance"
   ]
  },
  {
   "cell_type": "markdown",
   "metadata": {},
   "source": [
    "##### 3.1 For-loop of all possible feature sets"
   ]
  },
  {
   "cell_type": "code",
   "execution_count": 6,
   "metadata": {},
   "outputs": [],
   "source": [
    "from itertools import combinations\n",
    "import random"
   ]
  },
  {
   "cell_type": "code",
   "execution_count": 7,
   "metadata": {},
   "outputs": [
    {
     "name": "stdout",
     "output_type": "stream",
     "text": [
      "Combination 1: ('Crunchiness', 'Juiciness')\n",
      "OOB accuracy 0.62425\n",
      "Combination 2: ('Weight', 'Acidity')\n",
      "OOB accuracy 0.5905\n",
      "Combination 3: ('Crunchiness', 'Ripeness')\n",
      "OOB accuracy 0.596\n",
      "Combination 4: ('Size', 'Juiciness')\n",
      "OOB accuracy 0.6095\n",
      "Combination 5: ('Sweetness', 'Ripeness')\n",
      "OOB accuracy 0.63375\n",
      "Combination 6: ('Weight', 'Juiciness')\n",
      "OOB accuracy 0.5885\n",
      "Combination 7: ('Size', 'Weight')\n",
      "OOB accuracy 0.58625\n",
      "Combination 8: ('Sweetness', 'Crunchiness')\n",
      "OOB accuracy 0.58625\n",
      "Combination 9: ('Ripeness', 'Acidity')\n",
      "OOB accuracy 0.5695\n",
      "Combination 10: ('Sweetness', 'Juiciness')\n",
      "OOB accuracy 0.61175\n",
      "Combination 11: ('Size', 'Ripeness')\n",
      "OOB accuracy 0.63725\n",
      "Combination 12: ('Sweetness', 'Acidity')\n",
      "OOB accuracy 0.55225\n",
      "Combination 13: ('Weight', 'Ripeness')\n",
      "OOB accuracy 0.597\n",
      "Combination 14: ('Crunchiness', 'Acidity')\n",
      "OOB accuracy 0.5535\n",
      "Combination 15: ('Size', 'Crunchiness')\n",
      "OOB accuracy 0.5915\n",
      "Combination 16: ('Size', 'Acidity')\n",
      "OOB accuracy 0.597\n",
      "Combination 17: ('Ripeness', 'Juiciness')\n",
      "OOB accuracy 0.65175\n",
      "Combination 18: ('Weight', 'Crunchiness')\n",
      "OOB accuracy 0.57425\n",
      "Combination 19: ('Weight', 'Sweetness')\n",
      "OOB accuracy 0.6045\n",
      "Combination 20: ('Size', 'Sweetness')\n",
      "OOB accuracy 0.63925\n",
      "Combination 21: ('Juiciness', 'Acidity')\n",
      "OOB accuracy 0.58525\n"
     ]
    }
   ],
   "source": [
    "all_feature_combinations = list(combinations(features, 2))\n",
    "# Shuffle the combinations if you want random order\n",
    "random.shuffle(all_feature_combinations)\n",
    "\n",
    "# Print all possible combinations\n",
    "for i, combination in enumerate(all_feature_combinations, 1):\n",
    "    print(f\"Combination {i}: {combination}\")\n",
    "    train(get_dataset(list(combination)))"
   ]
  },
  {
   "cell_type": "code",
   "execution_count": 8,
   "metadata": {},
   "outputs": [
    {
     "name": "stdout",
     "output_type": "stream",
     "text": [
      "Combination 1: ('Weight', 'Crunchiness', 'Acidity')\n",
      "OOB accuracy 0.638\n",
      "Combination 2: ('Size', 'Ripeness', 'Acidity')\n",
      "OOB accuracy 0.71675\n",
      "Combination 3: ('Size', 'Weight', 'Acidity')\n",
      "OOB accuracy 0.66775\n",
      "Combination 4: ('Sweetness', 'Crunchiness', 'Juiciness')\n",
      "OOB accuracy 0.67825\n",
      "Combination 5: ('Sweetness', 'Ripeness', 'Juiciness')\n",
      "OOB accuracy 0.73175\n",
      "Combination 6: ('Size', 'Weight', 'Sweetness')\n",
      "OOB accuracy 0.71375\n",
      "Combination 7: ('Weight', 'Sweetness', 'Juiciness')\n",
      "OOB accuracy 0.673\n",
      "Combination 8: ('Weight', 'Sweetness', 'Crunchiness')\n",
      "OOB accuracy 0.65625\n",
      "Combination 9: ('Size', 'Crunchiness', 'Juiciness')\n",
      "OOB accuracy 0.69975\n",
      "Combination 10: ('Sweetness', 'Ripeness', 'Acidity')\n",
      "OOB accuracy 0.67075\n",
      "Combination 11: ('Crunchiness', 'Juiciness', 'Acidity')\n",
      "OOB accuracy 0.661\n",
      "Combination 12: ('Size', 'Sweetness', 'Ripeness')\n",
      "OOB accuracy 0.74875\n",
      "Combination 13: ('Ripeness', 'Juiciness', 'Acidity')\n",
      "OOB accuracy 0.702\n",
      "Combination 14: ('Sweetness', 'Crunchiness', 'Ripeness')\n",
      "OOB accuracy 0.704\n",
      "Combination 15: ('Weight', 'Crunchiness', 'Ripeness')\n",
      "OOB accuracy 0.66025\n",
      "Combination 16: ('Sweetness', 'Juiciness', 'Acidity')\n",
      "OOB accuracy 0.64225\n",
      "Combination 17: ('Weight', 'Crunchiness', 'Juiciness')\n",
      "OOB accuracy 0.68225\n",
      "Combination 18: ('Size', 'Sweetness', 'Crunchiness')\n",
      "OOB accuracy 0.69275\n",
      "Combination 19: ('Weight', 'Ripeness', 'Juiciness')\n",
      "OOB accuracy 0.707\n",
      "Combination 20: ('Crunchiness', 'Ripeness', 'Juiciness')\n",
      "OOB accuracy 0.70775\n",
      "Combination 21: ('Weight', 'Juiciness', 'Acidity')\n",
      "OOB accuracy 0.64375\n",
      "Combination 22: ('Size', 'Weight', 'Juiciness')\n",
      "OOB accuracy 0.6645\n",
      "Combination 23: ('Size', 'Juiciness', 'Acidity')\n",
      "OOB accuracy 0.68175\n",
      "Combination 24: ('Size', 'Crunchiness', 'Ripeness')\n",
      "OOB accuracy 0.679\n",
      "Combination 25: ('Weight', 'Sweetness', 'Ripeness')\n",
      "OOB accuracy 0.6825\n",
      "Combination 26: ('Size', 'Sweetness', 'Juiciness')\n",
      "OOB accuracy 0.71475\n",
      "Combination 27: ('Sweetness', 'Crunchiness', 'Acidity')\n",
      "OOB accuracy 0.63525\n",
      "Combination 28: ('Size', 'Weight', 'Crunchiness')\n",
      "OOB accuracy 0.63425\n",
      "Combination 29: ('Size', 'Weight', 'Ripeness')\n",
      "OOB accuracy 0.66175\n",
      "Combination 30: ('Size', 'Ripeness', 'Juiciness')\n",
      "OOB accuracy 0.728\n",
      "Combination 31: ('Size', 'Sweetness', 'Acidity')\n",
      "OOB accuracy 0.694\n",
      "Combination 32: ('Crunchiness', 'Ripeness', 'Acidity')\n",
      "OOB accuracy 0.6295\n",
      "Combination 33: ('Weight', 'Ripeness', 'Acidity')\n",
      "OOB accuracy 0.66925\n",
      "Combination 34: ('Size', 'Crunchiness', 'Acidity')\n",
      "OOB accuracy 0.63375\n",
      "Combination 35: ('Weight', 'Sweetness', 'Acidity')\n",
      "OOB accuracy 0.6775\n"
     ]
    }
   ],
   "source": [
    "all_feature_combinations = list(combinations(features, 3))\n",
    "# Shuffle the combinations if you want random order\n",
    "random.shuffle(all_feature_combinations)\n",
    "\n",
    "# Print all possible combinations\n",
    "for i, combination in enumerate(all_feature_combinations, 1):\n",
    "    print(f\"Combination {i}: {combination}\")\n",
    "    train(get_dataset(list(combination)))"
   ]
  },
  {
   "cell_type": "markdown",
   "metadata": {},
   "source": [
    "##### 3.2 Gini Importance"
   ]
  },
  {
   "cell_type": "code",
   "execution_count": 9,
   "metadata": {},
   "outputs": [
    {
     "name": "stdout",
     "output_type": "stream",
     "text": [
      "OOB accuracy 0.88925\n",
      "Ripeness :0.16958378610872357\n",
      "Size :0.1647901723267969\n",
      "Juiciness :0.15912929288349842\n",
      "Sweetness :0.1512183408774938\n",
      "Acidity :0.13070760258812117\n",
      "Weight :0.11513197367550825\n",
      "Crunchiness :0.10943883153985788\n"
     ]
    }
   ],
   "source": [
    "features = [\"Size\", \"Weight\", \"Sweetness\", \"Crunchiness\", \"Ripeness\", \"Juiciness\", \"Acidity\"]\n",
    "dataset = get_dataset(features)\n",
    "train(dataset)\n",
    "\n",
    "X, y = dataset\n",
    "model = RandomForestClassifier(oob_score=True, random_state=42, n_estimators=500, n_jobs=-1)\n",
    "model.fit(X, y)\n",
    "\n",
    "importances = model.feature_importances_\n",
    "indices = np.argsort(importances)[::-1]\n",
    "\n",
    "for f in range(X.shape[1]):\n",
    "    print(f\"{features[indices[f]]} :{importances[indices[f]]}\")"
   ]
  },
  {
   "cell_type": "markdown",
   "metadata": {},
   "source": [
    "##### 3.3 Permutation Importance"
   ]
  },
  {
   "cell_type": "code",
   "execution_count": 10,
   "metadata": {},
   "outputs": [],
   "source": [
    "from sklearn.inspection import permutation_importance"
   ]
  },
  {
   "cell_type": "code",
   "execution_count": 11,
   "metadata": {},
   "outputs": [
    {
     "name": "stdout",
     "output_type": "stream",
     "text": [
      "Size: 0.14375000000000002\n",
      "Ripeness: 0.1385\n",
      "Juiciness: 0.12650000000000003\n",
      "Sweetness: 0.09325000000000001\n",
      "Acidity: 0.06350000000000004\n",
      "Crunchiness: 0.05425000000000004\n",
      "Weight: 0.04675000000000003\n"
     ]
    }
   ],
   "source": [
    "features = [\"Size\", \"Weight\", \"Sweetness\", \"Crunchiness\", \"Ripeness\", \"Juiciness\", \"Acidity\"]\n",
    "dataset = get_dataset(features)\n",
    "X, y = dataset\n",
    "X_train, X_test, y_train, y_test = train_test_split(X, y, test_size=0.2, random_state=42)\n",
    "\n",
    "model = RandomForestClassifier(oob_score=True, random_state=42, n_estimators=500, n_jobs=-1)\n",
    "model.fit(X_train, y_train)\n",
    "\n",
    "perm_importance = permutation_importance(model, X_test, y_test)\n",
    "\n",
    "for f in perm_importance.importances_mean.argsort()[::-1]:\n",
    "    print(f\"{features[f]}: {perm_importance.importances_mean[f]}\")"
   ]
  }
 ],
 "metadata": {
  "kernelspec": {
   "display_name": "introds",
   "language": "python",
   "name": "python3"
  },
  "language_info": {
   "codemirror_mode": {
    "name": "ipython",
    "version": 3
   },
   "file_extension": ".py",
   "mimetype": "text/x-python",
   "name": "python",
   "nbconvert_exporter": "python",
   "pygments_lexer": "ipython3",
   "version": "3.9.18"
  }
 },
 "nbformat": 4,
 "nbformat_minor": 2
}
